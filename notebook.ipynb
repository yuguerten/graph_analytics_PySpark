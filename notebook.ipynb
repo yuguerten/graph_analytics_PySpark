{
 "cells": [
  {
   "cell_type": "markdown",
   "id": "763d2ca1",
   "metadata": {},
   "source": [
    "Graph Analytics with Apache Spark and GraphFrames\n",
    "Interactive Practical Session"
   ]
  },
  {
   "cell_type": "code",
   "execution_count": 1,
   "id": "84e82e5b",
   "metadata": {},
   "outputs": [],
   "source": [
    "import warnings\n",
    "warnings.filterwarnings('ignore')"
   ]
  },
  {
   "cell_type": "code",
   "execution_count": null,
   "id": "df46015b",
   "metadata": {},
   "outputs": [],
   "source": [
    "# Please make sure GraphFrames is installed in your Spark environment.\n",
    "# Install GraphFrames if necessary:\n",
    "! pip install graphframes"
   ]
  },
  {
   "cell_type": "code",
   "execution_count": 2,
   "id": "a838fe01",
   "metadata": {},
   "outputs": [],
   "source": [
    "# Import necessary libraries\n",
    "from pyspark.sql import SparkSession\n",
    "from pyspark.sql.functions import desc\n",
    "from graphframes import GraphFrame"
   ]
  },
  {
   "cell_type": "code",
   "execution_count": 3,
   "id": "83690ee2",
   "metadata": {},
   "outputs": [
    {
     "name": "stderr",
     "output_type": "stream",
     "text": [
      "24/10/27 20:00:36 WARN Utils: Your hostname, mouhcine resolves to a loopback address: 127.0.1.1; using 192.168.11.103 instead (on interface wlo1)\n",
      "24/10/27 20:00:36 WARN Utils: Set SPARK_LOCAL_IP if you need to bind to another address\n",
      "Ivy Default Cache set to: /home/yuguerten/.ivy2/cache\n",
      "The jars for the packages stored in: /home/yuguerten/.ivy2/jars\n"
     ]
    },
    {
     "name": "stdout",
     "output_type": "stream",
     "text": [
      ":: loading settings :: url = jar:file:/home/yuguerten/studies/Semestre_3/Big_data_2/Tps/tp4/.venv/lib/python3.12/site-packages/pyspark/jars/ivy-2.5.1.jar!/org/apache/ivy/core/settings/ivysettings.xml\n"
     ]
    },
    {
     "name": "stderr",
     "output_type": "stream",
     "text": [
      "graphframes#graphframes added as a dependency\n",
      ":: resolving dependencies :: org.apache.spark#spark-submit-parent-706b8e56-6b1d-4ec8-9cba-f494a5a4cedc;1.0\n",
      "\tconfs: [default]\n",
      "\tfound graphframes#graphframes;0.8.2-spark3.2-s_2.12 in spark-packages\n",
      "\tfound org.slf4j#slf4j-api;1.7.16 in central\n",
      ":: resolution report :: resolve 137ms :: artifacts dl 3ms\n",
      "\t:: modules in use:\n",
      "\tgraphframes#graphframes;0.8.2-spark3.2-s_2.12 from spark-packages in [default]\n",
      "\torg.slf4j#slf4j-api;1.7.16 from central in [default]\n",
      "\t---------------------------------------------------------------------\n",
      "\t|                  |            modules            ||   artifacts   |\n",
      "\t|       conf       | number| search|dwnlded|evicted|| number|dwnlded|\n",
      "\t---------------------------------------------------------------------\n",
      "\t|      default     |   2   |   0   |   0   |   0   ||   2   |   0   |\n",
      "\t---------------------------------------------------------------------\n",
      ":: retrieving :: org.apache.spark#spark-submit-parent-706b8e56-6b1d-4ec8-9cba-f494a5a4cedc\n",
      "\tconfs: [default]\n",
      "\t0 artifacts copied, 2 already retrieved (0kB/4ms)\n",
      "24/10/27 20:00:37 WARN NativeCodeLoader: Unable to load native-hadoop library for your platform... using builtin-java classes where applicable\n",
      "Setting default log level to \"WARN\".\n",
      "To adjust logging level use sc.setLogLevel(newLevel). For SparkR, use setLogLevel(newLevel).\n"
     ]
    },
    {
     "name": "stderr",
     "output_type": "stream",
     "text": [
      "24/10/27 20:00:51 WARN GarbageCollectionMetrics: To enable non-built-in garbage collector(s) List(G1 Concurrent GC), users should configure it(them) to spark.eventLog.gcMetrics.youngGenerationGarbageCollectors or spark.eventLog.gcMetrics.oldGenerationGarbageCollectors\n"
     ]
    }
   ],
   "source": [
    "# Initialize SparkSession\n",
    "spark = SparkSession.builder \\\n",
    "    .appName(\"GraphFrames Example\") \\\n",
    "    .config(\"spark.jars.packages\", \"graphframes:graphframes:0.8.2-spark3.2-s_2.12\") \\\n",
    "    .getOrCreate()"
   ]
  },
  {
   "cell_type": "markdown",
   "id": "1134df2a",
   "metadata": {},
   "source": [
    "## Task 1: Load the Data\n",
    "Load the station and trip data as DataFrames\n",
    "Question: Inspect the loaded data and understand its structure."
   ]
  },
  {
   "cell_type": "code",
   "execution_count": 4,
   "id": "2c5ec11b",
   "metadata": {},
   "outputs": [],
   "source": [
    "# Load station data\n",
    "station_data_path = \"data/201508_station_data.csv\"\n",
    "bikeStations = spark.read.option(\"header\", \"true\").csv(station_data_path)"
   ]
  },
  {
   "cell_type": "code",
   "execution_count": 5,
   "id": "4340dd65",
   "metadata": {},
   "outputs": [],
   "source": [
    "# Load trip data\n",
    "trip_data_path = \"data/201508_trip_data.csv\"\n",
    "tripData = spark.read.option(\"header\", \"true\").csv(trip_data_path)"
   ]
  },
  {
   "cell_type": "code",
   "execution_count": 6,
   "id": "da5abff2",
   "metadata": {},
   "outputs": [
    {
     "name": "stdout",
     "output_type": "stream",
     "text": [
      "Station Data:\n",
      "+----------+--------------------+---------+-----------+---------+--------+------------+\n",
      "|station_id|                name|      lat|       long|dockcount|landmark|installation|\n",
      "+----------+--------------------+---------+-----------+---------+--------+------------+\n",
      "|         2|San Jose Diridon ...|37.329732|-121.901782|       27|San Jose|    8/6/2013|\n",
      "|         3|San Jose Civic Ce...|37.330698|-121.888979|       15|San Jose|    8/5/2013|\n",
      "|         4|Santa Clara at Al...|37.333988|-121.894902|       11|San Jose|    8/6/2013|\n",
      "|         5|    Adobe on Almaden|37.331415|  -121.8932|       19|San Jose|    8/5/2013|\n",
      "|         6|    San Pedro Square|37.336721|-121.894074|       15|San Jose|    8/7/2013|\n",
      "+----------+--------------------+---------+-----------+---------+--------+------------+\n",
      "only showing top 5 rows\n",
      "\n",
      "Trip Data:\n",
      "+-------+--------+---------------+--------------------+--------------+---------------+--------------------+------------+------+---------------+--------+\n",
      "|Trip ID|Duration|     Start Date|       Start Station|Start Terminal|       End Date|         End Station|End Terminal|Bike #|Subscriber Type|Zip Code|\n",
      "+-------+--------+---------------+--------------------+--------------+---------------+--------------------+------------+------+---------------+--------+\n",
      "| 913460|     765|8/31/2015 23:26|Harry Bridges Pla...|            50|8/31/2015 23:39|San Francisco Cal...|          70|   288|     Subscriber|    2139|\n",
      "| 913459|    1036|8/31/2015 23:11|San Antonio Shopp...|            31|8/31/2015 23:28|Mountain View Cit...|          27|    35|     Subscriber|   95032|\n",
      "| 913455|     307|8/31/2015 23:13|      Post at Kearny|            47|8/31/2015 23:18|   2nd at South Park|          64|   468|     Subscriber|   94107|\n",
      "| 913454|     409|8/31/2015 23:10|  San Jose City Hall|            10|8/31/2015 23:17| San Salvador at 1st|           8|    68|     Subscriber|   95113|\n",
      "| 913453|     789|8/31/2015 23:09|Embarcadero at Fo...|            51|8/31/2015 23:22|Embarcadero at Sa...|          60|   487|       Customer|    9069|\n",
      "+-------+--------+---------------+--------------------+--------------+---------------+--------------------+------------+------+---------------+--------+\n",
      "only showing top 5 rows\n",
      "\n"
     ]
    }
   ],
   "source": [
    "# Display the first few rows of each DataFrame\n",
    "print(\"Station Data:\")\n",
    "bikeStations.show(5)\n",
    "print(\"Trip Data:\")\n",
    "tripData.show(5)"
   ]
  },
  {
   "cell_type": "markdown",
   "id": "e9d32aab",
   "metadata": {},
   "source": [
    "## Task 2: Define Vertices and Edges\n",
    "Prepare vertices and edges for the graph using the GraphFrames conventions.\n",
    "Rename columns to match GraphFrames requirements."
   ]
  },
  {
   "cell_type": "code",
   "execution_count": 8,
   "id": "7482e310",
   "metadata": {},
   "outputs": [],
   "source": [
    "stationVertices = bikeStations.withColumnRenamed(\"name\", \"id\").distinct()\n",
    "tripEdges = tripData \\\n",
    "    .withColumnRenamed(\"Start Station\", \"src\") \\\n",
    "    .withColumnRenamed(\"End Station\", \"dst\")"
   ]
  },
  {
   "cell_type": "code",
   "execution_count": 9,
   "id": "2733102e",
   "metadata": {},
   "outputs": [
    {
     "name": "stdout",
     "output_type": "stream",
     "text": [
      "Vertices (Stations):\n",
      "+----------+--------------------+---------+-----------+---------+-------------+------------+\n",
      "|station_id|                  id|      lat|       long|dockcount|     landmark|installation|\n",
      "+----------+--------------------+---------+-----------+---------+-------------+------------+\n",
      "|        51|Embarcadero at Fo...|37.791464|-122.391034|       19|San Francisco|   8/20/2013|\n",
      "|        58|San Francisco Cit...| 37.77865|-122.418235|       19|San Francisco|   8/21/2013|\n",
      "|        60|Embarcadero at Sa...| 37.80477|-122.403234|       15|San Francisco|   8/21/2013|\n",
      "|        65|     Townsend at 7th|37.771058|-122.402717|       15|San Francisco|   8/22/2013|\n",
      "|        63|       Howard at 2nd|37.786978|-122.398108|       19|San Francisco|   8/22/2013|\n",
      "+----------+--------------------+---------+-----------+---------+-------------+------------+\n",
      "only showing top 5 rows\n",
      "\n",
      "Edges (Trips):\n",
      "+-------+--------+---------------+--------------------+--------------+---------------+--------------------+------------+------+---------------+--------+\n",
      "|Trip ID|Duration|     Start Date|                 src|Start Terminal|       End Date|                 dst|End Terminal|Bike #|Subscriber Type|Zip Code|\n",
      "+-------+--------+---------------+--------------------+--------------+---------------+--------------------+------------+------+---------------+--------+\n",
      "| 913460|     765|8/31/2015 23:26|Harry Bridges Pla...|            50|8/31/2015 23:39|San Francisco Cal...|          70|   288|     Subscriber|    2139|\n",
      "| 913459|    1036|8/31/2015 23:11|San Antonio Shopp...|            31|8/31/2015 23:28|Mountain View Cit...|          27|    35|     Subscriber|   95032|\n",
      "| 913455|     307|8/31/2015 23:13|      Post at Kearny|            47|8/31/2015 23:18|   2nd at South Park|          64|   468|     Subscriber|   94107|\n",
      "| 913454|     409|8/31/2015 23:10|  San Jose City Hall|            10|8/31/2015 23:17| San Salvador at 1st|           8|    68|     Subscriber|   95113|\n",
      "| 913453|     789|8/31/2015 23:09|Embarcadero at Fo...|            51|8/31/2015 23:22|Embarcadero at Sa...|          60|   487|       Customer|    9069|\n",
      "+-------+--------+---------------+--------------------+--------------+---------------+--------------------+------------+------+---------------+--------+\n",
      "only showing top 5 rows\n",
      "\n"
     ]
    }
   ],
   "source": [
    "# Display the prepared vertices and edges\n",
    "print(\"Vertices (Stations):\")\n",
    "stationVertices.show(5)\n",
    "print(\"Edges (Trips):\")\n",
    "tripEdges.show(5)"
   ]
  },
  {
   "cell_type": "markdown",
   "id": "bbd3ceb9",
   "metadata": {},
   "source": [
    "## Task 3: Construct the Graph\n",
    "Use the GraphFrames library to create a graph using the vertices and edges dataframes."
   ]
  },
  {
   "cell_type": "code",
   "execution_count": 10,
   "id": "2a3dbab6",
   "metadata": {},
   "outputs": [
    {
     "data": {
      "text/plain": [
       "GraphFrame(v:[id: string, station_id: string ... 5 more fields], e:[src: string, dst: string ... 9 more fields])"
      ]
     },
     "execution_count": 10,
     "metadata": {},
     "output_type": "execute_result"
    }
   ],
   "source": [
    "stationGraph = GraphFrame(stationVertices, tripEdges)\n",
    "stationGraph.cache()"
   ]
  },
  {
   "cell_type": "code",
   "execution_count": 12,
   "id": "1f9cb8e4",
   "metadata": {},
   "outputs": [
    {
     "name": "stdout",
     "output_type": "stream",
     "text": [
      "Total Number of Stations: 70\n",
      "Total Number of Trips in Graph: 354152\n"
     ]
    }
   ],
   "source": [
    "# Confirm graph statistics\n",
    "print(\"Total Number of Stations:\", stationGraph.vertices.count())\n",
    "print(\"Total Number of Trips in Graph:\", stationGraph.edges.count())"
   ]
  },
  {
   "cell_type": "markdown",
   "id": "9329b7a9",
   "metadata": {},
   "source": [
    "## Task 4: Basic Graph Queries\n",
    "Count the number of trips between popular stations."
   ]
  },
  {
   "cell_type": "code",
   "execution_count": 13,
   "id": "e3f26828",
   "metadata": {},
   "outputs": [],
   "source": [
    "popular_trips = stationGraph.edges \\\n",
    "    .groupBy(\"src\", \"dst\") \\\n",
    "    .count() \\\n",
    "    .orderBy(desc(\"count\"))"
   ]
  },
  {
   "cell_type": "code",
   "execution_count": 14,
   "id": "2c6e5d67",
   "metadata": {},
   "outputs": [
    {
     "name": "stdout",
     "output_type": "stream",
     "text": [
      "Top 10 Popular Trips:\n",
      "+--------------------+--------------------+-----+\n",
      "|                 src|                 dst|count|\n",
      "+--------------------+--------------------+-----+\n",
      "|San Francisco Cal...|     Townsend at 7th| 3748|\n",
      "|Harry Bridges Pla...|Embarcadero at Sa...| 3145|\n",
      "|     2nd at Townsend|Harry Bridges Pla...| 2973|\n",
      "|     Townsend at 7th|San Francisco Cal...| 2734|\n",
      "|Harry Bridges Pla...|     2nd at Townsend| 2640|\n",
      "|Embarcadero at Fo...|San Francisco Cal...| 2439|\n",
      "|   Steuart at Market|     2nd at Townsend| 2356|\n",
      "|Embarcadero at Sa...|   Steuart at Market| 2330|\n",
      "|     Townsend at 7th|San Francisco Cal...| 2192|\n",
      "|Temporary Transba...|San Francisco Cal...| 2184|\n",
      "+--------------------+--------------------+-----+\n",
      "only showing top 10 rows\n",
      "\n"
     ]
    }
   ],
   "source": [
    "# Display the top 10 popular trips\n",
    "print(\"Top 10 Popular Trips:\")\n",
    "popular_trips.show(10)"
   ]
  },
  {
   "cell_type": "markdown",
   "id": "88a9e6ae",
   "metadata": {},
   "source": [
    "QUESTION: Modify the query to filter trips from or to a specific station."
   ]
  },
  {
   "cell_type": "markdown",
   "id": "5230280b",
   "metadata": {},
   "source": [
    "## Task 5: PageRank Calculation\n",
    "Use PageRank to identify influential stations."
   ]
  },
  {
   "cell_type": "code",
   "execution_count": 15,
   "id": "84852d98",
   "metadata": {},
   "outputs": [
    {
     "name": "stderr",
     "output_type": "stream",
     "text": [
      "24/10/25 20:40:55 WARN MemoryStore: Not enough space to cache rdd_148_2 in memory! (computed 30.7 MiB so far)\n",
      "24/10/25 20:40:55 WARN BlockManager: Block rdd_148_2 could not be removed as it was not found on disk or in memory\n",
      "24/10/25 20:40:55 WARN BlockManager: Putting block rdd_148_2 failed\n",
      "                                                                                \r"
     ]
    },
    {
     "name": "stdout",
     "output_type": "stream",
     "text": [
      "Top 10 Stations by PageRank:\n",
      "+--------------------+------------------+\n",
      "|                  id|          pagerank|\n",
      "+--------------------+------------------+\n",
      "|San Jose Diridon ...| 4.051504835989957|\n",
      "|San Francisco Cal...| 3.351183296428704|\n",
      "|Mountain View Cal...| 2.514390771015558|\n",
      "|Redwood City Calt...|2.3263087713711688|\n",
      "|San Francisco Cal...|2.2311442913698567|\n",
      "|Harry Bridges Pla...|1.8251120118882902|\n",
      "|     2nd at Townsend|1.5821217785039197|\n",
      "|Santa Clara at Al...| 1.573007408490752|\n",
      "|     Townsend at 7th| 1.568456580534067|\n",
      "|Embarcadero at Sa...|1.5414242087748948|\n",
      "+--------------------+------------------+\n",
      "only showing top 10 rows\n",
      "\n"
     ]
    }
   ],
   "source": [
    "ranks = stationGraph.pageRank(resetProbability=0.15, maxIter=10)\n",
    "# Display stations with highest PageRank values\n",
    "print(\"Top 10 Stations by PageRank:\")\n",
    "ranks.vertices.orderBy(desc(\"pagerank\")).select(\"id\", \"pagerank\").show(10)"
   ]
  },
  {
   "cell_type": "markdown",
   "id": "174dae40",
   "metadata": {},
   "source": [
    "QUESTION: Try adjusting the `resetProbability` and `maxIter` parameters."
   ]
  },
  {
   "cell_type": "markdown",
   "id": "fb9abf0d",
   "metadata": {},
   "source": [
    "## Task 6: In-Degree and Out-Degree Analysis\n",
    "Calculate the in-degree and out-degree for each station.\n",
    "In-degree represents incoming trips, out-degree represents outgoing trips."
   ]
  },
  {
   "cell_type": "code",
   "execution_count": 16,
   "id": "d2d7242e",
   "metadata": {},
   "outputs": [],
   "source": [
    "inDeg = stationGraph.inDegrees\n",
    "outDeg = stationGraph.outDegrees"
   ]
  },
  {
   "cell_type": "code",
   "execution_count": 17,
   "id": "7a343c41",
   "metadata": {},
   "outputs": [
    {
     "name": "stdout",
     "output_type": "stream",
     "text": [
      "Top 5 Stations by In-Degree:\n",
      "+--------------------+--------+\n",
      "|                  id|inDegree|\n",
      "+--------------------+--------+\n",
      "|San Francisco Cal...|   34810|\n",
      "|San Francisco Cal...|   22523|\n",
      "|Harry Bridges Pla...|   17810|\n",
      "|     2nd at Townsend|   15463|\n",
      "|     Townsend at 7th|   15422|\n",
      "+--------------------+--------+\n",
      "only showing top 5 rows\n",
      "\n"
     ]
    }
   ],
   "source": [
    "# Display stations with the highest in-degree and out-degree\n",
    "print(\"Top 5 Stations by In-Degree:\")\n",
    "inDeg.orderBy(desc(\"inDegree\")).show(5)"
   ]
  },
  {
   "cell_type": "code",
   "execution_count": 18,
   "id": "66e93276",
   "metadata": {},
   "outputs": [
    {
     "name": "stdout",
     "output_type": "stream",
     "text": [
      "Top 5 Stations by Out-Degree:\n",
      "+--------------------+---------+\n",
      "|                  id|outDegree|\n",
      "+--------------------+---------+\n",
      "|San Francisco Cal...|    26304|\n",
      "|San Francisco Cal...|    21758|\n",
      "|Harry Bridges Pla...|    17255|\n",
      "|Temporary Transba...|    14436|\n",
      "|Embarcadero at Sa...|    14158|\n",
      "+--------------------+---------+\n",
      "only showing top 5 rows\n",
      "\n"
     ]
    }
   ],
   "source": [
    "print(\"Top 5 Stations by Out-Degree:\")\n",
    "outDeg.orderBy(desc(\"outDegree\")).show(5)"
   ]
  },
  {
   "cell_type": "markdown",
   "id": "6795b052",
   "metadata": {},
   "source": [
    "QUESTION: What does the degree ratio (inDegree/outDegree) tell us about the station’s activity?"
   ]
  },
  {
   "cell_type": "markdown",
   "id": "0ffdeafa",
   "metadata": {},
   "source": [
    "## Task 7: Breadth-First Search (BFS)\n",
    "Use BFS to find shortest paths between two stations.\n",
    "Set `fromExpr` and `toExpr` to identify specific stations for the BFS traversal."
   ]
  },
  {
   "cell_type": "code",
   "execution_count": 19,
   "id": "64373f5a",
   "metadata": {},
   "outputs": [],
   "source": [
    "bfs_result = stationGraph.bfs(\n",
    "    fromExpr=\"id = 'Townsend at 7th'\",\n",
    "    toExpr=\"id = 'Spear at Folsom'\",\n",
    "    maxPathLength=2\n",
    ")"
   ]
  },
  {
   "cell_type": "code",
   "execution_count": 20,
   "id": "67001c15",
   "metadata": {},
   "outputs": [
    {
     "name": "stdout",
     "output_type": "stream",
     "text": [
      "BFS Path from 'Townsend at 7th' to 'Spear at Folsom':\n",
      "+--------------------+--------------------+--------------------+\n",
      "|                from|                  e0|                  to|\n",
      "+--------------------+--------------------+--------------------+\n",
      "|{65, Townsend at ...|{913371, 663, 8/3...|{49, Spear at Fol...|\n",
      "|{65, Townsend at ...|{913265, 658, 8/3...|{49, Spear at Fol...|\n",
      "|{65, Townsend at ...|{911919, 722, 8/3...|{49, Spear at Fol...|\n",
      "|{65, Townsend at ...|{910777, 704, 8/2...|{49, Spear at Fol...|\n",
      "|{65, Townsend at ...|{908994, 1115, 8/...|{49, Spear at Fol...|\n",
      "+--------------------+--------------------+--------------------+\n",
      "only showing top 5 rows\n",
      "\n"
     ]
    }
   ],
   "source": [
    "# Display the BFS result\n",
    "print(\"BFS Path from 'Townsend at 7th' to 'Spear at Folsom':\")\n",
    "bfs_result.show(5)"
   ]
  },
  {
   "cell_type": "markdown",
   "id": "a75ab272",
   "metadata": {},
   "source": [
    "QUESTION: Experiment with different stations to find paths between them."
   ]
  },
  {
   "cell_type": "markdown",
   "id": "1d7149a1",
   "metadata": {},
   "source": [
    "End of Practical Notebook Session"
   ]
  },
  {
   "cell_type": "code",
   "execution_count": 24,
   "id": "d643b75e",
   "metadata": {},
   "outputs": [],
   "source": [
    "# Stop the Spark session after the practical session is complete.\n",
    "spark.stop()"
   ]
  }
 ],
 "metadata": {
  "jupytext": {
   "cell_metadata_filter": "-all",
   "main_language": "python",
   "notebook_metadata_filter": "-all"
  },
  "kernelspec": {
   "display_name": ".venv",
   "language": "python",
   "name": "python3"
  },
  "language_info": {
   "codemirror_mode": {
    "name": "ipython",
    "version": 3
   },
   "file_extension": ".py",
   "mimetype": "text/x-python",
   "name": "python",
   "nbconvert_exporter": "python",
   "pygments_lexer": "ipython3",
   "version": "3.12.3"
  }
 },
 "nbformat": 4,
 "nbformat_minor": 5
}
